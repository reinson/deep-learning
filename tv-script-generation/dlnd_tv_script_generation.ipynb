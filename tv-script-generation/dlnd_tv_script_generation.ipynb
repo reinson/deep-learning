{
 "cells": [
  {
   "cell_type": "markdown",
   "metadata": {
    "deletable": true,
    "editable": true
   },
   "source": [
    "# TV Script Generation\n",
    "In this project, you'll generate your own [Simpsons](https://en.wikipedia.org/wiki/The_Simpsons) TV scripts using RNNs.  You'll be using part of the [Simpsons dataset](https://www.kaggle.com/wcukierski/the-simpsons-by-the-data) of scripts from 27 seasons.  The Neural Network you'll build will generate a new TV script for a scene at [Moe's Tavern](https://simpsonswiki.com/wiki/Moe's_Tavern).\n",
    "## Get the Data\n",
    "The data is already provided for you.  You'll be using a subset of the original dataset.  It consists of only the scenes in Moe's Tavern.  This doesn't include other versions of the tavern, like \"Moe's Cavern\", \"Flaming Moe's\", \"Uncle Moe's Family Feed-Bag\", etc.."
   ]
  },
  {
   "cell_type": "code",
   "execution_count": 32,
   "metadata": {
    "collapsed": false,
    "deletable": true,
    "editable": true
   },
   "outputs": [],
   "source": [
    "\"\"\"\n",
    "DON'T MODIFY ANYTHING IN THIS CELL\n",
    "\"\"\"\n",
    "import helper\n",
    "\n",
    "data_dir = './data/simpsons/moes_tavern_lines.txt'\n",
    "text = helper.load_data(data_dir)\n",
    "# Ignore notice, since we don't use it for analysing the data\n",
    "text = text[81:]"
   ]
  },
  {
   "cell_type": "markdown",
   "metadata": {
    "deletable": true,
    "editable": true
   },
   "source": [
    "## Explore the Data\n",
    "Play around with `view_sentence_range` to view different parts of the data."
   ]
  },
  {
   "cell_type": "code",
   "execution_count": 33,
   "metadata": {
    "collapsed": false,
    "deletable": true,
    "editable": true
   },
   "outputs": [
    {
     "name": "stdout",
     "output_type": "stream",
     "text": [
      "Dataset Stats\n",
      "Roughly the number of unique words: 11492\n",
      "Number of scenes: 262\n",
      "Average number of sentences in each scene: 15.248091603053435\n",
      "Number of lines: 4257\n",
      "Average number of words in each line: 11.50434578341555\n",
      "\n",
      "The sentences 0 to 10:\n",
      "Moe_Szyslak: (INTO PHONE) Moe's Tavern. Where the elite meet to drink.\n",
      "Bart_Simpson: Eh, yeah, hello, is Mike there? Last name, Rotch.\n",
      "Moe_Szyslak: (INTO PHONE) Hold on, I'll check. (TO BARFLIES) Mike Rotch. Mike Rotch. Hey, has anybody seen Mike Rotch, lately?\n",
      "Moe_Szyslak: (INTO PHONE) Listen you little puke. One of these days I'm gonna catch you, and I'm gonna carve my name on your back with an ice pick.\n",
      "Moe_Szyslak: What's the matter Homer? You're not your normal effervescent self.\n",
      "Homer_Simpson: I got my problems, Moe. Give me another one.\n",
      "Moe_Szyslak: Homer, hey, you should not drink to forget your problems.\n",
      "Barney_Gumble: Yeah, you should only drink to enhance your social skills.\n",
      "\n",
      "\n"
     ]
    }
   ],
   "source": [
    "view_sentence_range = (0, 10)\n",
    "\n",
    "\"\"\"\n",
    "DON'T MODIFY ANYTHING IN THIS CELL\n",
    "\"\"\"\n",
    "import numpy as np\n",
    "\n",
    "print('Dataset Stats')\n",
    "print('Roughly the number of unique words: {}'.format(len({word: None for word in text.split()})))\n",
    "scenes = text.split('\\n\\n')\n",
    "print('Number of scenes: {}'.format(len(scenes)))\n",
    "sentence_count_scene = [scene.count('\\n') for scene in scenes]\n",
    "print('Average number of sentences in each scene: {}'.format(np.average(sentence_count_scene)))\n",
    "\n",
    "sentences = [sentence for scene in scenes for sentence in scene.split('\\n')]\n",
    "print('Number of lines: {}'.format(len(sentences)))\n",
    "word_count_sentence = [len(sentence.split()) for sentence in sentences]\n",
    "print('Average number of words in each line: {}'.format(np.average(word_count_sentence)))\n",
    "\n",
    "print()\n",
    "print('The sentences {} to {}:'.format(*view_sentence_range))\n",
    "print('\\n'.join(text.split('\\n')[view_sentence_range[0]:view_sentence_range[1]]))"
   ]
  },
  {
   "cell_type": "markdown",
   "metadata": {
    "deletable": true,
    "editable": true
   },
   "source": [
    "## Implement Preprocessing Functions\n",
    "The first thing to do to any dataset is preprocessing.  Implement the following preprocessing functions below:\n",
    "- Lookup Table\n",
    "- Tokenize Punctuation\n",
    "\n",
    "### Lookup Table\n",
    "To create a word embedding, you first need to transform the words to ids.  In this function, create two dictionaries:\n",
    "- Dictionary to go from the words to an id, we'll call `vocab_to_int`\n",
    "- Dictionary to go from the id to word, we'll call `int_to_vocab`\n",
    "\n",
    "Return these dictionaries in the following tuple `(vocab_to_int, int_to_vocab)`"
   ]
  },
  {
   "cell_type": "code",
   "execution_count": 34,
   "metadata": {
    "collapsed": false,
    "deletable": true,
    "editable": true
   },
   "outputs": [
    {
     "name": "stdout",
     "output_type": "stream",
     "text": [
      "Tests Passed\n"
     ]
    }
   ],
   "source": [
    "import numpy as np\n",
    "import problem_unittests as tests\n",
    "\n",
    "def create_lookup_tables(text):\n",
    "    \"\"\"\n",
    "    Create lookup tables for vocabulary\n",
    "    :param text: The text of tv scripts split into words\n",
    "    :return: A tuple of dicts (vocab_to_int, int_to_vocab)\n",
    "    \"\"\"\n",
    "    vocab_to_int = {x:i for i,x in enumerate(set(text))}  \n",
    "    int_to_vocab = {vocab_to_int[x]:x for x in vocab_to_int}\n",
    "    return vocab_to_int, int_to_vocab\n",
    "\n",
    "\n",
    "\"\"\"\n",
    "DON'T MODIFY ANYTHING IN THIS CELL THAT IS BELOW THIS LINE\n",
    "\"\"\"\n",
    "tests.test_create_lookup_tables(create_lookup_tables)"
   ]
  },
  {
   "cell_type": "markdown",
   "metadata": {
    "deletable": true,
    "editable": true
   },
   "source": [
    "### Tokenize Punctuation\n",
    "We'll be splitting the script into a word array using spaces as delimiters.  However, punctuations like periods and exclamation marks make it hard for the neural network to distinguish between the word \"bye\" and \"bye!\".\n",
    "\n",
    "Implement the function `token_lookup` to return a dict that will be used to tokenize symbols like \"!\" into \"||Exclamation_Mark||\".  Create a dictionary for the following symbols where the symbol is the key and value is the token:\n",
    "- Period ( . )\n",
    "- Comma ( , )\n",
    "- Quotation Mark ( \" )\n",
    "- Semicolon ( ; )\n",
    "- Exclamation mark ( ! )\n",
    "- Question mark ( ? )\n",
    "- Left Parentheses ( ( )\n",
    "- Right Parentheses ( ) )\n",
    "- Dash ( -- )\n",
    "- Return ( \\n )\n",
    "\n",
    "This dictionary will be used to token the symbols and add the delimiter (space) around it.  This separates the symbols as it's own word, making it easier for the neural network to predict on the next word. Make sure you don't use a token that could be confused as a word. Instead of using the token \"dash\", try using something like \"||dash||\"."
   ]
  },
  {
   "cell_type": "code",
   "execution_count": 35,
   "metadata": {
    "collapsed": false,
    "deletable": true,
    "editable": true
   },
   "outputs": [
    {
     "name": "stdout",
     "output_type": "stream",
     "text": [
      "Tests Passed\n"
     ]
    }
   ],
   "source": [
    "def token_lookup():\n",
    "    \"\"\"\n",
    "    Generate a dict to turn punctuation into a token.\n",
    "    :return: Tokenize dictionary where the key is the punctuation and the value is the token\n",
    "    \"\"\"\n",
    "    punctuation = [\".\", \",\", \"\\\"\", \";\", \"!\", \"?\", \"(\", \")\", \"--\", \"\\n\"]\n",
    "    return {x:\"punctuation_\" + str(i) for i,x in enumerate(punctuation)}\n",
    "\n",
    "\"\"\"\n",
    "DON'T MODIFY ANYTHING IN THIS CELL THAT IS BELOW THIS LINE\n",
    "\"\"\"\n",
    "tests.test_tokenize(token_lookup)"
   ]
  },
  {
   "cell_type": "markdown",
   "metadata": {
    "deletable": true,
    "editable": true
   },
   "source": [
    "## Preprocess all the data and save it\n",
    "Running the code cell below will preprocess all the data and save it to file."
   ]
  },
  {
   "cell_type": "code",
   "execution_count": 36,
   "metadata": {
    "collapsed": false,
    "deletable": true,
    "editable": true
   },
   "outputs": [],
   "source": [
    "\"\"\"\n",
    "DON'T MODIFY ANYTHING IN THIS CELL\n",
    "\"\"\"\n",
    "# Preprocess Training, Validation, and Testing Data\n",
    "helper.preprocess_and_save_data(data_dir, token_lookup, create_lookup_tables)"
   ]
  },
  {
   "cell_type": "markdown",
   "metadata": {
    "deletable": true,
    "editable": true
   },
   "source": [
    "# Check Point\n",
    "This is your first checkpoint. If you ever decide to come back to this notebook or have to restart the notebook, you can start from here. The preprocessed data has been saved to disk."
   ]
  },
  {
   "cell_type": "code",
   "execution_count": 37,
   "metadata": {
    "collapsed": false,
    "deletable": true,
    "editable": true
   },
   "outputs": [],
   "source": [
    "\"\"\"\n",
    "DON'T MODIFY ANYTHING IN THIS CELL\n",
    "\"\"\"\n",
    "import helper\n",
    "import numpy as np\n",
    "import problem_unittests as tests\n",
    "\n",
    "int_text, vocab_to_int, int_to_vocab, token_dict = helper.load_preprocess()"
   ]
  },
  {
   "cell_type": "markdown",
   "metadata": {
    "deletable": true,
    "editable": true
   },
   "source": [
    "## Build the Neural Network\n",
    "You'll build the components necessary to build a RNN by implementing the following functions below:\n",
    "- get_inputs\n",
    "- get_init_cell\n",
    "- get_embed\n",
    "- build_rnn\n",
    "- build_nn\n",
    "- get_batches\n",
    "\n",
    "### Check the Version of TensorFlow and Access to GPU"
   ]
  },
  {
   "cell_type": "code",
   "execution_count": 38,
   "metadata": {
    "collapsed": false,
    "deletable": true,
    "editable": true
   },
   "outputs": [
    {
     "name": "stdout",
     "output_type": "stream",
     "text": [
      "TensorFlow Version: 1.0.0\n",
      "Default GPU Device: /gpu:0\n"
     ]
    }
   ],
   "source": [
    "\"\"\"\n",
    "DON'T MODIFY ANYTHING IN THIS CELL\n",
    "\"\"\"\n",
    "from distutils.version import LooseVersion\n",
    "import warnings\n",
    "import tensorflow as tf\n",
    "\n",
    "# Check TensorFlow Version\n",
    "assert LooseVersion(tf.__version__) >= LooseVersion('1.0'), 'Please use TensorFlow version 1.0 or newer'\n",
    "print('TensorFlow Version: {}'.format(tf.__version__))\n",
    "\n",
    "# Check for a GPU\n",
    "if not tf.test.gpu_device_name():\n",
    "    warnings.warn('No GPU found. Please use a GPU to train your neural network.')\n",
    "else:\n",
    "    print('Default GPU Device: {}'.format(tf.test.gpu_device_name()))"
   ]
  },
  {
   "cell_type": "markdown",
   "metadata": {
    "deletable": true,
    "editable": true
   },
   "source": [
    "### Input\n",
    "Implement the `get_inputs()` function to create TF Placeholders for the Neural Network.  It should create the following placeholders:\n",
    "- Input text placeholder named \"input\" using the [TF Placeholder](https://www.tensorflow.org/api_docs/python/tf/placeholder) `name` parameter.\n",
    "- Targets placeholder\n",
    "- Learning Rate placeholder\n",
    "\n",
    "Return the placeholders in the following tuple `(Input, Targets, LearningRate)`"
   ]
  },
  {
   "cell_type": "code",
   "execution_count": 39,
   "metadata": {
    "collapsed": false,
    "deletable": true,
    "editable": true
   },
   "outputs": [
    {
     "name": "stdout",
     "output_type": "stream",
     "text": [
      "Tests Passed\n"
     ]
    }
   ],
   "source": [
    "def get_inputs():\n",
    "    \"\"\"\n",
    "    Create TF Placeholders for input, targets, and learning rate.\n",
    "    :return: Tuple (input, targets, learning rate)\n",
    "    \"\"\"\n",
    "    inputs = tf.placeholder(tf.int32, [None,None], name=\"input\")\n",
    "    targets = tf.placeholder(tf.int32, [None,None], name=\"targets\")\n",
    "    lr = tf.placeholder(tf.float32, [], name=\"learning_rate\")\n",
    "    \n",
    "    return (inputs, targets, lr)\n",
    "\n",
    "\n",
    "\"\"\"\n",
    "DON'T MODIFY ANYTHING IN THIS CELL THAT IS BELOW THIS LINE\n",
    "\"\"\"\n",
    "tests.test_get_inputs(get_inputs)"
   ]
  },
  {
   "cell_type": "markdown",
   "metadata": {
    "deletable": true,
    "editable": true
   },
   "source": [
    "### Build RNN Cell and Initialize\n",
    "Stack one or more [`BasicLSTMCells`](https://www.tensorflow.org/api_docs/python/tf/contrib/rnn/BasicLSTMCell) in a [`MultiRNNCell`](https://www.tensorflow.org/api_docs/python/tf/contrib/rnn/MultiRNNCell).\n",
    "- The Rnn size should be set using `rnn_size`\n",
    "- Initalize Cell State using the MultiRNNCell's [`zero_state()`](https://www.tensorflow.org/api_docs/python/tf/contrib/rnn/MultiRNNCell#zero_state) function\n",
    "    - Apply the name \"initial_state\" to the initial state using [`tf.identity()`](https://www.tensorflow.org/api_docs/python/tf/identity)\n",
    "\n",
    "Return the cell and initial state in the following tuple `(Cell, InitialState)`"
   ]
  },
  {
   "cell_type": "code",
   "execution_count": 40,
   "metadata": {
    "collapsed": false,
    "deletable": true,
    "editable": true
   },
   "outputs": [
    {
     "name": "stdout",
     "output_type": "stream",
     "text": [
      "Tests Passed\n"
     ]
    }
   ],
   "source": [
    "def get_init_cell(batch_size, rnn_size):\n",
    "    \"\"\"\n",
    "    Create an RNN Cell and initialize it.\n",
    "    :param batch_size: Size of batches\n",
    "    :param rnn_size: Size of RNNs\n",
    "    :return: Tuple (cell, initialize state)\n",
    "    \"\"\"\n",
    "    lstm = tf.contrib.rnn.BasicLSTMCell(rnn_size)\n",
    "    multi_lstm = tf.contrib.rnn.MultiRNNCell([lstm]*1)\n",
    "    \n",
    "    initial_state = multi_lstm.zero_state(batch_size, tf.float32)\n",
    "    initial_state = tf.identity(initial_state, \"initial_state\")\n",
    "    \n",
    "    return (multi_lstm, initial_state)\n",
    "\n",
    "\n",
    "\"\"\"\n",
    "DON'T MODIFY ANYTHING IN THIS CELL THAT IS BELOW THIS LINE\n",
    "\"\"\"\n",
    "tests.test_get_init_cell(get_init_cell)"
   ]
  },
  {
   "cell_type": "markdown",
   "metadata": {
    "deletable": true,
    "editable": true
   },
   "source": [
    "### Word Embedding\n",
    "Apply embedding to `input_data` using TensorFlow.  Return the embedded sequence."
   ]
  },
  {
   "cell_type": "code",
   "execution_count": 41,
   "metadata": {
    "collapsed": false,
    "deletable": true,
    "editable": true
   },
   "outputs": [
    {
     "name": "stdout",
     "output_type": "stream",
     "text": [
      "Tests Passed\n"
     ]
    }
   ],
   "source": [
    "def get_embed(input_data, vocab_size, embed_dim):\n",
    "    \"\"\"\n",
    "    Create embedding for <input_data>.\n",
    "    :param input_data: TF placeholder for text input.\n",
    "    :param vocab_size: Number of words in vocabulary.\n",
    "    :param embed_dim: Number of embedding dimensions\n",
    "    :return: Embedded input.\n",
    "    \"\"\"\n",
    "    embedding = tf.Variable(tf.random_uniform((vocab_size, embed_dim), -1, 1))\n",
    "    embed = tf.nn.embedding_lookup(embedding, input_data)\n",
    "    return embed\n",
    "\n",
    "\n",
    "\"\"\"\n",
    "DON'T MODIFY ANYTHING IN THIS CELL THAT IS BELOW THIS LINE\n",
    "\"\"\"\n",
    "tests.test_get_embed(get_embed)"
   ]
  },
  {
   "cell_type": "markdown",
   "metadata": {
    "deletable": true,
    "editable": true
   },
   "source": [
    "### Build RNN\n",
    "You created a RNN Cell in the `get_init_cell()` function.  Time to use the cell to create a RNN.\n",
    "- Build the RNN using the [`tf.nn.dynamic_rnn()`](https://www.tensorflow.org/api_docs/python/tf/nn/dynamic_rnn)\n",
    " - Apply the name \"final_state\" to the final state using [`tf.identity()`](https://www.tensorflow.org/api_docs/python/tf/identity)\n",
    "\n",
    "Return the outputs and final_state state in the following tuple `(Outputs, FinalState)` "
   ]
  },
  {
   "cell_type": "code",
   "execution_count": 42,
   "metadata": {
    "collapsed": false,
    "deletable": true,
    "editable": true
   },
   "outputs": [
    {
     "name": "stdout",
     "output_type": "stream",
     "text": [
      "Tests Passed\n"
     ]
    }
   ],
   "source": [
    "def build_rnn(cell, inputs):\n",
    "    \"\"\"\n",
    "    Create a RNN using a RNN Cell\n",
    "    :param cell: RNN Cell\n",
    "    :param inputs: Input text data\n",
    "    :return: Tuple (Outputs, Final State)\n",
    "    \"\"\"\n",
    "    outputs, final_state = tf.nn.dynamic_rnn(cell, inputs, dtype=tf.float32)\n",
    "    final_state = tf.identity(final_state, \"final_state\")\n",
    "    \n",
    "    return (outputs, final_state)\n",
    "\n",
    "\n",
    "\"\"\"\n",
    "DON'T MODIFY ANYTHING IN THIS CELL THAT IS BELOW THIS LINE\n",
    "\"\"\"\n",
    "tests.test_build_rnn(build_rnn)"
   ]
  },
  {
   "cell_type": "markdown",
   "metadata": {
    "deletable": true,
    "editable": true
   },
   "source": [
    "### Build the Neural Network\n",
    "Apply the functions you implemented above to:\n",
    "- Apply embedding to `input_data` using your `get_embed(input_data, vocab_size, embed_dim)` function.\n",
    "- Build RNN using `cell` and your `build_rnn(cell, inputs)` function.\n",
    "- Apply a fully connected layer with a linear activation and `vocab_size` as the number of outputs.\n",
    "\n",
    "Return the logits and final state in the following tuple (Logits, FinalState) "
   ]
  },
  {
   "cell_type": "code",
   "execution_count": 43,
   "metadata": {
    "collapsed": false,
    "deletable": true,
    "editable": true,
    "scrolled": false
   },
   "outputs": [
    {
     "name": "stdout",
     "output_type": "stream",
     "text": [
      "correct shape:  [128, 5, 27]\n",
      "Tests Passed\n"
     ]
    }
   ],
   "source": [
    "def build_nn(cell, rnn_size, input_data, vocab_size, embed_dim):\n",
    "    \"\"\"\n",
    "    Build part of the neural network\n",
    "    :param cell: RNN cell\n",
    "    :param rnn_size: Size of rnns\n",
    "    :param input_data: Input data\n",
    "    :param vocab_size: Vocabulary size\n",
    "    :param embed_dim: Number of embedding dimensions\n",
    "    :return: Tuple (Logits, FinalState)\n",
    "    \"\"\"\n",
    "    embed = get_embed(input_data, vocab_size, embed_dim)\n",
    "    rnn_output, final_state = build_rnn(cell,embed)\n",
    "    \n",
    "    logits = tf.contrib.layers.fully_connected(rnn_output, vocab_size, activation_fn=None)\n",
    "    \n",
    "    return (logits, final_state)\n",
    "\n",
    "\n",
    "\"\"\"\n",
    "DON'T MODIFY ANYTHING IN THIS CELL THAT IS BELOW THIS LINE\n",
    "\"\"\"\n",
    "tests.test_build_nn(build_nn)"
   ]
  },
  {
   "cell_type": "markdown",
   "metadata": {
    "deletable": true,
    "editable": true
   },
   "source": [
    "### Batches\n",
    "Implement `get_batches` to create batches of input and targets using `int_text`.  The batches should be a Numpy array with the shape `(number of batches, 2, batch size, sequence length)`. Each batch contains two elements:\n",
    "- The first element is a single batch of **input** with the shape `[batch size, sequence length]`\n",
    "- The second element is a single batch of **targets** with the shape `[batch size, sequence length]`\n",
    "\n",
    "If you can't fill the last batch with enough data, drop the last batch.\n",
    "\n",
    "For exmple, `get_batches([1, 2, 3, 4, 5, 6, 7, 8, 9, 10, 11, 12, 13, 14, 15, 16, 17, 18, 19, 20], 3, 2)` would return a Numpy array of the following:\n",
    "```\n",
    "[\n",
    "  # First Batch\n",
    "  [\n",
    "    # Batch of Input\n",
    "    [[ 1  2], [ 7  8], [13 14]]\n",
    "    # Batch of targets\n",
    "    [[ 2  3], [ 8  9], [14 15]]\n",
    "  ]\n",
    "\n",
    "  # Second Batch\n",
    "  [\n",
    "    # Batch of Input\n",
    "    [[ 3  4], [ 9 10], [15 16]]\n",
    "    # Batch of targets\n",
    "    [[ 4  5], [10 11], [16 17]]\n",
    "  ]\n",
    "\n",
    "  # Third Batch\n",
    "  [\n",
    "    # Batch of Input\n",
    "    [[ 5  6], [11 12], [17 18]]\n",
    "    # Batch of targets\n",
    "    [[ 6  7], [12 13], [18  1]]\n",
    "  ]\n",
    "]\n",
    "```\n",
    "\n",
    "Notice that the last target value in the last batch is the first input value of the first batch. In this case, `1`. This is a common technique used when creating sequence batches, although it is rather unintuitive."
   ]
  },
  {
   "cell_type": "code",
   "execution_count": 44,
   "metadata": {
    "collapsed": false,
    "deletable": true,
    "editable": true
   },
   "outputs": [
    {
     "name": "stdout",
     "output_type": "stream",
     "text": [
      "Tests Passed\n"
     ]
    }
   ],
   "source": [
    "def get_batches(int_text, batch_size, seq_length):\n",
    "    \"\"\"\n",
    "    Return batches of input and target\n",
    "    :param int_text: Text with the words replaced by their ids\n",
    "    :param batch_size: The size of batch\n",
    "    :param seq_length: The length of sequence\n",
    "    :return: Batches as a Numpy array\n",
    "    \"\"\"\n",
    "    batch_len = batch_size * seq_length\n",
    "    \n",
    "    trim_index = len(int_text) - len(int_text) % batch_len \n",
    "    \n",
    "    f = int_text[:trim_index]\n",
    "    l = f[1:] + [f[0]]\n",
    "    \n",
    "    \n",
    "    num_batches = int(len(f) / batch_len)\n",
    "    \n",
    "    batches = []\n",
    "    \n",
    "    for batch_i in range(num_batches):\n",
    "        seq_start_positions = [seq_length*(batch_i + i*num_batches) for i in range(batch_size)]\n",
    "        features = [f[x:x+seq_length] for x in seq_start_positions]\n",
    "        labels = [l[x:x+seq_length] for x in seq_start_positions]\n",
    "        batches.append([features,labels])   \n",
    "\n",
    "    return np.array(batches)\n",
    "            \n",
    "        \n",
    "\n",
    "\n",
    "\"\"\"\n",
    "DON'T MODIFY ANYTHING IN THIS CELL THAT IS BELOW THIS LINE\n",
    "\"\"\"\n",
    "tests.test_get_batches(get_batches) \n",
    "#get_batches([1, 2, 3, 4, 5, 6, 7, 8, 9, 10, 11, 12, 13, 14, 15, 16, 17, 18, 19, 20], 3, 2)"
   ]
  },
  {
   "cell_type": "markdown",
   "metadata": {
    "deletable": true,
    "editable": true
   },
   "source": [
    "## Neural Network Training\n",
    "### Hyperparameters\n",
    "Tune the following parameters:\n",
    "\n",
    "- Set `num_epochs` to the number of epochs.\n",
    "- Set `batch_size` to the batch size.\n",
    "- Set `rnn_size` to the size of the RNNs.\n",
    "- Set `embed_dim` to the size of the embedding.\n",
    "- Set `seq_length` to the length of sequence.\n",
    "- Set `learning_rate` to the learning rate.\n",
    "- Set `show_every_n_batches` to the number of batches the neural network should print progress."
   ]
  },
  {
   "cell_type": "code",
   "execution_count": 45,
   "metadata": {
    "collapsed": true,
    "deletable": true,
    "editable": true
   },
   "outputs": [],
   "source": [
    "# Number of Epochs\n",
    "num_epochs = 200\n",
    "# Batch Size\n",
    "batch_size = 512\n",
    "# RNN Size\n",
    "rnn_size = 96\n",
    "# Embedding Dimension Size\n",
    "embed_dim = 200\n",
    "# Sequence Length\n",
    "seq_length = 7\n",
    "# Learning Rate\n",
    "learning_rate = 0.01\n",
    "# Show stats for every n number of batches\n",
    "show_every_n_batches = 10\n",
    "\n",
    "\"\"\"\n",
    "DON'T MODIFY ANYTHING IN THIS CELL THAT IS BELOW THIS LINE\n",
    "\"\"\"\n",
    "save_dir = './save'"
   ]
  },
  {
   "cell_type": "markdown",
   "metadata": {
    "deletable": true,
    "editable": true
   },
   "source": [
    "### Build the Graph\n",
    "Build the graph using the neural network you implemented."
   ]
  },
  {
   "cell_type": "code",
   "execution_count": 46,
   "metadata": {
    "collapsed": false,
    "deletable": true,
    "editable": true
   },
   "outputs": [],
   "source": [
    "\"\"\"\n",
    "DON'T MODIFY ANYTHING IN THIS CELL\n",
    "\"\"\"\n",
    "from tensorflow.contrib import seq2seq\n",
    "\n",
    "train_graph = tf.Graph()\n",
    "with train_graph.as_default():\n",
    "    vocab_size = len(int_to_vocab)\n",
    "    input_text, targets, lr = get_inputs()\n",
    "    input_data_shape = tf.shape(input_text)\n",
    "    cell, initial_state = get_init_cell(input_data_shape[0], rnn_size)\n",
    "    logits, final_state = build_nn(cell, rnn_size, input_text, vocab_size, embed_dim)\n",
    "\n",
    "    # Probabilities for generating words\n",
    "    probs = tf.nn.softmax(logits, name='probs')\n",
    "\n",
    "    # Loss function\n",
    "    cost = seq2seq.sequence_loss(\n",
    "        logits,\n",
    "        targets,\n",
    "        tf.ones([input_data_shape[0], input_data_shape[1]]))\n",
    "\n",
    "    # Optimizer\n",
    "    optimizer = tf.train.AdamOptimizer(lr)\n",
    "\n",
    "    # Gradient Clipping\n",
    "    gradients = optimizer.compute_gradients(cost)\n",
    "    capped_gradients = [(tf.clip_by_value(grad, -1., 1.), var) for grad, var in gradients if grad is not None]\n",
    "    train_op = optimizer.apply_gradients(capped_gradients)"
   ]
  },
  {
   "cell_type": "markdown",
   "metadata": {
    "deletable": true,
    "editable": true
   },
   "source": [
    "## Train\n",
    "Train the neural network on the preprocessed data.  If you have a hard time getting a good loss, check the [forms](https://discussions.udacity.com/) to see if anyone is having the same problem."
   ]
  },
  {
   "cell_type": "code",
   "execution_count": 47,
   "metadata": {
    "collapsed": false,
    "deletable": true,
    "editable": true,
    "scrolled": true
   },
   "outputs": [
    {
     "name": "stdout",
     "output_type": "stream",
     "text": [
      "Epoch   0 Batch    0/19   train_loss = 8.821\n",
      "Epoch   0 Batch   10/19   train_loss = 6.413\n",
      "Epoch   1 Batch    1/19   train_loss = 5.884\n",
      "Epoch   1 Batch   11/19   train_loss = 5.482\n",
      "Epoch   2 Batch    2/19   train_loss = 5.293\n",
      "Epoch   2 Batch   12/19   train_loss = 5.110\n",
      "Epoch   3 Batch    3/19   train_loss = 4.885\n",
      "Epoch   3 Batch   13/19   train_loss = 4.778\n",
      "Epoch   4 Batch    4/19   train_loss = 4.522\n",
      "Epoch   4 Batch   14/19   train_loss = 4.527\n",
      "Epoch   5 Batch    5/19   train_loss = 4.362\n",
      "Epoch   5 Batch   15/19   train_loss = 4.228\n",
      "Epoch   6 Batch    6/19   train_loss = 4.084\n",
      "Epoch   6 Batch   16/19   train_loss = 4.154\n",
      "Epoch   7 Batch    7/19   train_loss = 4.047\n",
      "Epoch   7 Batch   17/19   train_loss = 3.881\n",
      "Epoch   8 Batch    8/19   train_loss = 3.879\n",
      "Epoch   8 Batch   18/19   train_loss = 3.771\n",
      "Epoch   9 Batch    9/19   train_loss = 3.729\n",
      "Epoch  10 Batch    0/19   train_loss = 3.585\n",
      "Epoch  10 Batch   10/19   train_loss = 3.561\n",
      "Epoch  11 Batch    1/19   train_loss = 3.441\n",
      "Epoch  11 Batch   11/19   train_loss = 3.448\n",
      "Epoch  12 Batch    2/19   train_loss = 3.421\n",
      "Epoch  12 Batch   12/19   train_loss = 3.341\n",
      "Epoch  13 Batch    3/19   train_loss = 3.264\n",
      "Epoch  13 Batch   13/19   train_loss = 3.232\n",
      "Epoch  14 Batch    4/19   train_loss = 3.173\n",
      "Epoch  14 Batch   14/19   train_loss = 3.167\n",
      "Epoch  15 Batch    5/19   train_loss = 3.115\n",
      "Epoch  15 Batch   15/19   train_loss = 3.105\n",
      "Epoch  16 Batch    6/19   train_loss = 2.973\n",
      "Epoch  16 Batch   16/19   train_loss = 3.052\n",
      "Epoch  17 Batch    7/19   train_loss = 3.057\n",
      "Epoch  17 Batch   17/19   train_loss = 2.857\n",
      "Epoch  18 Batch    8/19   train_loss = 2.899\n",
      "Epoch  18 Batch   18/19   train_loss = 2.904\n",
      "Epoch  19 Batch    9/19   train_loss = 2.818\n",
      "Epoch  20 Batch    0/19   train_loss = 2.728\n",
      "Epoch  20 Batch   10/19   train_loss = 2.759\n",
      "Epoch  21 Batch    1/19   train_loss = 2.713\n",
      "Epoch  21 Batch   11/19   train_loss = 2.690\n",
      "Epoch  22 Batch    2/19   train_loss = 2.720\n",
      "Epoch  22 Batch   12/19   train_loss = 2.640\n",
      "Epoch  23 Batch    3/19   train_loss = 2.611\n",
      "Epoch  23 Batch   13/19   train_loss = 2.590\n",
      "Epoch  24 Batch    4/19   train_loss = 2.608\n",
      "Epoch  24 Batch   14/19   train_loss = 2.572\n",
      "Epoch  25 Batch    5/19   train_loss = 2.531\n",
      "Epoch  25 Batch   15/19   train_loss = 2.556\n",
      "Epoch  26 Batch    6/19   train_loss = 2.427\n",
      "Epoch  26 Batch   16/19   train_loss = 2.468\n",
      "Epoch  27 Batch    7/19   train_loss = 2.539\n",
      "Epoch  27 Batch   17/19   train_loss = 2.364\n",
      "Epoch  28 Batch    8/19   train_loss = 2.404\n",
      "Epoch  28 Batch   18/19   train_loss = 2.426\n",
      "Epoch  29 Batch    9/19   train_loss = 2.361\n",
      "Epoch  30 Batch    0/19   train_loss = 2.293\n",
      "Epoch  30 Batch   10/19   train_loss = 2.325\n",
      "Epoch  31 Batch    1/19   train_loss = 2.294\n",
      "Epoch  31 Batch   11/19   train_loss = 2.242\n",
      "Epoch  32 Batch    2/19   train_loss = 2.295\n",
      "Epoch  32 Batch   12/19   train_loss = 2.200\n",
      "Epoch  33 Batch    3/19   train_loss = 2.162\n",
      "Epoch  33 Batch   13/19   train_loss = 2.170\n",
      "Epoch  34 Batch    4/19   train_loss = 2.214\n",
      "Epoch  34 Batch   14/19   train_loss = 2.166\n",
      "Epoch  35 Batch    5/19   train_loss = 2.126\n",
      "Epoch  35 Batch   15/19   train_loss = 2.165\n",
      "Epoch  36 Batch    6/19   train_loss = 2.043\n",
      "Epoch  36 Batch   16/19   train_loss = 2.090\n",
      "Epoch  37 Batch    7/19   train_loss = 2.152\n",
      "Epoch  37 Batch   17/19   train_loss = 1.980\n",
      "Epoch  38 Batch    8/19   train_loss = 2.023\n",
      "Epoch  38 Batch   18/19   train_loss = 2.086\n",
      "Epoch  39 Batch    9/19   train_loss = 2.037\n",
      "Epoch  40 Batch    0/19   train_loss = 1.976\n",
      "Epoch  40 Batch   10/19   train_loss = 2.019\n",
      "Epoch  41 Batch    1/19   train_loss = 1.981\n",
      "Epoch  41 Batch   11/19   train_loss = 1.909\n",
      "Epoch  42 Batch    2/19   train_loss = 1.970\n",
      "Epoch  42 Batch   12/19   train_loss = 1.891\n",
      "Epoch  43 Batch    3/19   train_loss = 1.836\n",
      "Epoch  43 Batch   13/19   train_loss = 1.866\n",
      "Epoch  44 Batch    4/19   train_loss = 1.910\n",
      "Epoch  44 Batch   14/19   train_loss = 1.860\n",
      "Epoch  45 Batch    5/19   train_loss = 1.829\n",
      "Epoch  45 Batch   15/19   train_loss = 1.872\n",
      "Epoch  46 Batch    6/19   train_loss = 1.756\n",
      "Epoch  46 Batch   16/19   train_loss = 1.799\n",
      "Epoch  47 Batch    7/19   train_loss = 1.884\n",
      "Epoch  47 Batch   17/19   train_loss = 1.704\n",
      "Epoch  48 Batch    8/19   train_loss = 1.745\n",
      "Epoch  48 Batch   18/19   train_loss = 1.816\n",
      "Epoch  49 Batch    9/19   train_loss = 1.778\n",
      "Epoch  50 Batch    0/19   train_loss = 1.710\n",
      "Epoch  50 Batch   10/19   train_loss = 1.755\n",
      "Epoch  51 Batch    1/19   train_loss = 1.747\n",
      "Epoch  51 Batch   11/19   train_loss = 1.682\n",
      "Epoch  52 Batch    2/19   train_loss = 1.744\n",
      "Epoch  52 Batch   12/19   train_loss = 1.659\n",
      "Epoch  53 Batch    3/19   train_loss = 1.615\n",
      "Epoch  53 Batch   13/19   train_loss = 1.656\n",
      "Epoch  54 Batch    4/19   train_loss = 1.684\n",
      "Epoch  54 Batch   14/19   train_loss = 1.631\n",
      "Epoch  55 Batch    5/19   train_loss = 1.622\n",
      "Epoch  55 Batch   15/19   train_loss = 1.647\n",
      "Epoch  56 Batch    6/19   train_loss = 1.565\n",
      "Epoch  56 Batch   16/19   train_loss = 1.603\n",
      "Epoch  57 Batch    7/19   train_loss = 1.681\n",
      "Epoch  57 Batch   17/19   train_loss = 1.509\n",
      "Epoch  58 Batch    8/19   train_loss = 1.536\n",
      "Epoch  58 Batch   18/19   train_loss = 1.607\n",
      "Epoch  59 Batch    9/19   train_loss = 1.567\n",
      "Epoch  60 Batch    0/19   train_loss = 1.500\n",
      "Epoch  60 Batch   10/19   train_loss = 1.545\n",
      "Epoch  61 Batch    1/19   train_loss = 1.540\n",
      "Epoch  61 Batch   11/19   train_loss = 1.482\n",
      "Epoch  62 Batch    2/19   train_loss = 1.518\n",
      "Epoch  62 Batch   12/19   train_loss = 1.444\n",
      "Epoch  63 Batch    3/19   train_loss = 1.393\n",
      "Epoch  63 Batch   13/19   train_loss = 1.440\n",
      "Epoch  64 Batch    4/19   train_loss = 1.478\n",
      "Epoch  64 Batch   14/19   train_loss = 1.424\n",
      "Epoch  65 Batch    5/19   train_loss = 1.409\n",
      "Epoch  65 Batch   15/19   train_loss = 1.443\n",
      "Epoch  66 Batch    6/19   train_loss = 1.375\n",
      "Epoch  66 Batch   16/19   train_loss = 1.418\n",
      "Epoch  67 Batch    7/19   train_loss = 1.506\n",
      "Epoch  67 Batch   17/19   train_loss = 1.330\n",
      "Epoch  68 Batch    8/19   train_loss = 1.361\n",
      "Epoch  68 Batch   18/19   train_loss = 1.441\n",
      "Epoch  69 Batch    9/19   train_loss = 1.431\n",
      "Epoch  70 Batch    0/19   train_loss = 1.340\n",
      "Epoch  70 Batch   10/19   train_loss = 1.407\n",
      "Epoch  71 Batch    1/19   train_loss = 1.378\n",
      "Epoch  71 Batch   11/19   train_loss = 1.355\n",
      "Epoch  72 Batch    2/19   train_loss = 1.388\n",
      "Epoch  72 Batch   12/19   train_loss = 1.343\n",
      "Epoch  73 Batch    3/19   train_loss = 1.278\n",
      "Epoch  73 Batch   13/19   train_loss = 1.332\n",
      "Epoch  74 Batch    4/19   train_loss = 1.362\n",
      "Epoch  74 Batch   14/19   train_loss = 1.311\n",
      "Epoch  75 Batch    5/19   train_loss = 1.304\n",
      "Epoch  75 Batch   15/19   train_loss = 1.339\n",
      "Epoch  76 Batch    6/19   train_loss = 1.267\n",
      "Epoch  76 Batch   16/19   train_loss = 1.311\n",
      "Epoch  77 Batch    7/19   train_loss = 1.405\n",
      "Epoch  77 Batch   17/19   train_loss = 1.223\n",
      "Epoch  78 Batch    8/19   train_loss = 1.254\n",
      "Epoch  78 Batch   18/19   train_loss = 1.338\n",
      "Epoch  79 Batch    9/19   train_loss = 1.314\n",
      "Epoch  80 Batch    0/19   train_loss = 1.239\n",
      "Epoch  80 Batch   10/19   train_loss = 1.282\n",
      "Epoch  81 Batch    1/19   train_loss = 1.270\n",
      "Epoch  81 Batch   11/19   train_loss = 1.229\n",
      "Epoch  82 Batch    2/19   train_loss = 1.282\n",
      "Epoch  82 Batch   12/19   train_loss = 1.191\n",
      "Epoch  83 Batch    3/19   train_loss = 1.141\n",
      "Epoch  83 Batch   13/19   train_loss = 1.183\n",
      "Epoch  84 Batch    4/19   train_loss = 1.216\n",
      "Epoch  84 Batch   14/19   train_loss = 1.158\n",
      "Epoch  85 Batch    5/19   train_loss = 1.166\n",
      "Epoch  85 Batch   15/19   train_loss = 1.194\n",
      "Epoch  86 Batch    6/19   train_loss = 1.136\n",
      "Epoch  86 Batch   16/19   train_loss = 1.181\n",
      "Epoch  87 Batch    7/19   train_loss = 1.263\n",
      "Epoch  87 Batch   17/19   train_loss = 1.096\n",
      "Epoch  88 Batch    8/19   train_loss = 1.113\n",
      "Epoch  88 Batch   18/19   train_loss = 1.211\n",
      "Epoch  89 Batch    9/19   train_loss = 1.173\n",
      "Epoch  90 Batch    0/19   train_loss = 1.131\n",
      "Epoch  90 Batch   10/19   train_loss = 1.175\n",
      "Epoch  91 Batch    1/19   train_loss = 1.176\n",
      "Epoch  91 Batch   11/19   train_loss = 1.129\n",
      "Epoch  92 Batch    2/19   train_loss = 1.177\n",
      "Epoch  92 Batch   12/19   train_loss = 1.111\n",
      "Epoch  93 Batch    3/19   train_loss = 1.063\n",
      "Epoch  93 Batch   13/19   train_loss = 1.120\n",
      "Epoch  94 Batch    4/19   train_loss = 1.150\n",
      "Epoch  94 Batch   14/19   train_loss = 1.099\n",
      "Epoch  95 Batch    5/19   train_loss = 1.109\n",
      "Epoch  95 Batch   15/19   train_loss = 1.142\n",
      "Epoch  96 Batch    6/19   train_loss = 1.093\n",
      "Epoch  96 Batch   16/19   train_loss = 1.128\n",
      "Epoch  97 Batch    7/19   train_loss = 1.205\n",
      "Epoch  97 Batch   17/19   train_loss = 1.048\n",
      "Epoch  98 Batch    8/19   train_loss = 1.079\n",
      "Epoch  98 Batch   18/19   train_loss = 1.171\n",
      "Epoch  99 Batch    9/19   train_loss = 1.141\n",
      "Epoch 100 Batch    0/19   train_loss = 1.094\n",
      "Epoch 100 Batch   10/19   train_loss = 1.142\n",
      "Epoch 101 Batch    1/19   train_loss = 1.128\n",
      "Epoch 101 Batch   11/19   train_loss = 1.099\n",
      "Epoch 102 Batch    2/19   train_loss = 1.130\n",
      "Epoch 102 Batch   12/19   train_loss = 1.068\n",
      "Epoch 103 Batch    3/19   train_loss = 1.010\n",
      "Epoch 103 Batch   13/19   train_loss = 1.059\n",
      "Epoch 104 Batch    4/19   train_loss = 1.076\n",
      "Epoch 104 Batch   14/19   train_loss = 1.038\n",
      "Epoch 105 Batch    5/19   train_loss = 1.038\n",
      "Epoch 105 Batch   15/19   train_loss = 1.066\n",
      "Epoch 106 Batch    6/19   train_loss = 1.018\n",
      "Epoch 106 Batch   16/19   train_loss = 1.051\n",
      "Epoch 107 Batch    7/19   train_loss = 1.118\n",
      "Epoch 107 Batch   17/19   train_loss = 0.967\n",
      "Epoch 108 Batch    8/19   train_loss = 0.989\n",
      "Epoch 108 Batch   18/19   train_loss = 1.084\n",
      "Epoch 109 Batch    9/19   train_loss = 1.043\n",
      "Epoch 110 Batch    0/19   train_loss = 1.016\n",
      "Epoch 110 Batch   10/19   train_loss = 1.043\n",
      "Epoch 111 Batch    1/19   train_loss = 1.043\n",
      "Epoch 111 Batch   11/19   train_loss = 1.024\n",
      "Epoch 112 Batch    2/19   train_loss = 1.062\n",
      "Epoch 112 Batch   12/19   train_loss = 1.000\n",
      "Epoch 113 Batch    3/19   train_loss = 0.949\n",
      "Epoch 113 Batch   13/19   train_loss = 0.995\n",
      "Epoch 114 Batch    4/19   train_loss = 1.023\n",
      "Epoch 114 Batch   14/19   train_loss = 0.985\n",
      "Epoch 115 Batch    5/19   train_loss = 0.990\n",
      "Epoch 115 Batch   15/19   train_loss = 1.009\n",
      "Epoch 116 Batch    6/19   train_loss = 0.964\n",
      "Epoch 116 Batch   16/19   train_loss = 1.010\n",
      "Epoch 117 Batch    7/19   train_loss = 1.076\n",
      "Epoch 117 Batch   17/19   train_loss = 0.940\n",
      "Epoch 118 Batch    8/19   train_loss = 0.962\n",
      "Epoch 118 Batch   18/19   train_loss = 1.047\n",
      "Epoch 119 Batch    9/19   train_loss = 1.011\n",
      "Epoch 120 Batch    0/19   train_loss = 0.985\n",
      "Epoch 120 Batch   10/19   train_loss = 1.006\n",
      "Epoch 121 Batch    1/19   train_loss = 1.015\n",
      "Epoch 121 Batch   11/19   train_loss = 0.991\n",
      "Epoch 122 Batch    2/19   train_loss = 1.041\n",
      "Epoch 122 Batch   12/19   train_loss = 0.970\n",
      "Epoch 123 Batch    3/19   train_loss = 0.916\n",
      "Epoch 123 Batch   13/19   train_loss = 0.972\n",
      "Epoch 124 Batch    4/19   train_loss = 1.007\n",
      "Epoch 124 Batch   14/19   train_loss = 0.961\n",
      "Epoch 125 Batch    5/19   train_loss = 0.950\n",
      "Epoch 125 Batch   15/19   train_loss = 0.986\n",
      "Epoch 126 Batch    6/19   train_loss = 0.942\n",
      "Epoch 126 Batch   16/19   train_loss = 0.981\n",
      "Epoch 127 Batch    7/19   train_loss = 1.040\n",
      "Epoch 127 Batch   17/19   train_loss = 0.903\n",
      "Epoch 128 Batch    8/19   train_loss = 0.900\n",
      "Epoch 128 Batch   18/19   train_loss = 0.989\n",
      "Epoch 129 Batch    9/19   train_loss = 0.965\n",
      "Epoch 130 Batch    0/19   train_loss = 0.926\n",
      "Epoch 130 Batch   10/19   train_loss = 0.958\n",
      "Epoch 131 Batch    1/19   train_loss = 0.955\n",
      "Epoch 131 Batch   11/19   train_loss = 0.935\n",
      "Epoch 132 Batch    2/19   train_loss = 0.968\n",
      "Epoch 132 Batch   12/19   train_loss = 0.906\n",
      "Epoch 133 Batch    3/19   train_loss = 0.869\n",
      "Epoch 133 Batch   13/19   train_loss = 0.896\n",
      "Epoch 134 Batch    4/19   train_loss = 0.931\n",
      "Epoch 134 Batch   14/19   train_loss = 0.894\n",
      "Epoch 135 Batch    5/19   train_loss = 0.896\n",
      "Epoch 135 Batch   15/19   train_loss = 0.927\n",
      "Epoch 136 Batch    6/19   train_loss = 0.884\n",
      "Epoch 136 Batch   16/19   train_loss = 0.931\n",
      "Epoch 137 Batch    7/19   train_loss = 0.968\n",
      "Epoch 137 Batch   17/19   train_loss = 0.858\n",
      "Epoch 138 Batch    8/19   train_loss = 0.868\n",
      "Epoch 138 Batch   18/19   train_loss = 0.943\n",
      "Epoch 139 Batch    9/19   train_loss = 0.917\n",
      "Epoch 140 Batch    0/19   train_loss = 0.881\n",
      "Epoch 140 Batch   10/19   train_loss = 0.908\n",
      "Epoch 141 Batch    1/19   train_loss = 0.920\n",
      "Epoch 141 Batch   11/19   train_loss = 0.900\n",
      "Epoch 142 Batch    2/19   train_loss = 0.934\n",
      "Epoch 142 Batch   12/19   train_loss = 0.868\n",
      "Epoch 143 Batch    3/19   train_loss = 0.838\n",
      "Epoch 143 Batch   13/19   train_loss = 0.871\n",
      "Epoch 144 Batch    4/19   train_loss = 0.899\n",
      "Epoch 144 Batch   14/19   train_loss = 0.865\n",
      "Epoch 145 Batch    5/19   train_loss = 0.869\n",
      "Epoch 145 Batch   15/19   train_loss = 0.881\n",
      "Epoch 146 Batch    6/19   train_loss = 0.851\n",
      "Epoch 146 Batch   16/19   train_loss = 0.889\n",
      "Epoch 147 Batch    7/19   train_loss = 0.940\n",
      "Epoch 147 Batch   17/19   train_loss = 0.833\n",
      "Epoch 148 Batch    8/19   train_loss = 0.841\n",
      "Epoch 148 Batch   18/19   train_loss = 0.915\n",
      "Epoch 149 Batch    9/19   train_loss = 0.891\n",
      "Epoch 150 Batch    0/19   train_loss = 0.870\n",
      "Epoch 150 Batch   10/19   train_loss = 0.887\n",
      "Epoch 151 Batch    1/19   train_loss = 0.907\n",
      "Epoch 151 Batch   11/19   train_loss = 0.877\n",
      "Epoch 152 Batch    2/19   train_loss = 0.907\n",
      "Epoch 152 Batch   12/19   train_loss = 0.854\n",
      "Epoch 153 Batch    3/19   train_loss = 0.817\n",
      "Epoch 153 Batch   13/19   train_loss = 0.853\n",
      "Epoch 154 Batch    4/19   train_loss = 0.892\n",
      "Epoch 154 Batch   14/19   train_loss = 0.855\n",
      "Epoch 155 Batch    5/19   train_loss = 0.865\n",
      "Epoch 155 Batch   15/19   train_loss = 0.884\n",
      "Epoch 156 Batch    6/19   train_loss = 0.840\n",
      "Epoch 156 Batch   16/19   train_loss = 0.881\n",
      "Epoch 157 Batch    7/19   train_loss = 0.928\n",
      "Epoch 157 Batch   17/19   train_loss = 0.829\n",
      "Epoch 158 Batch    8/19   train_loss = 0.836\n",
      "Epoch 158 Batch   18/19   train_loss = 0.909\n",
      "Epoch 159 Batch    9/19   train_loss = 0.873\n",
      "Epoch 160 Batch    0/19   train_loss = 0.864\n",
      "Epoch 160 Batch   10/19   train_loss = 0.873\n",
      "Epoch 161 Batch    1/19   train_loss = 0.879\n",
      "Epoch 161 Batch   11/19   train_loss = 0.864\n",
      "Epoch 162 Batch    2/19   train_loss = 0.884\n",
      "Epoch 162 Batch   12/19   train_loss = 0.836\n",
      "Epoch 163 Batch    3/19   train_loss = 0.799\n",
      "Epoch 163 Batch   13/19   train_loss = 0.835\n",
      "Epoch 164 Batch    4/19   train_loss = 0.863\n",
      "Epoch 164 Batch   14/19   train_loss = 0.847\n",
      "Epoch 165 Batch    5/19   train_loss = 0.837\n",
      "Epoch 165 Batch   15/19   train_loss = 0.857\n",
      "Epoch 166 Batch    6/19   train_loss = 0.826\n",
      "Epoch 166 Batch   16/19   train_loss = 0.860\n",
      "Epoch 167 Batch    7/19   train_loss = 0.910\n",
      "Epoch 167 Batch   17/19   train_loss = 0.795\n",
      "Epoch 168 Batch    8/19   train_loss = 0.793\n",
      "Epoch 168 Batch   18/19   train_loss = 0.882\n",
      "Epoch 169 Batch    9/19   train_loss = 0.840\n",
      "Epoch 170 Batch    0/19   train_loss = 0.835\n",
      "Epoch 170 Batch   10/19   train_loss = 0.847\n",
      "Epoch 171 Batch    1/19   train_loss = 0.862\n",
      "Epoch 171 Batch   11/19   train_loss = 0.839\n",
      "Epoch 172 Batch    2/19   train_loss = 0.870\n",
      "Epoch 172 Batch   12/19   train_loss = 0.828\n",
      "Epoch 173 Batch    3/19   train_loss = 0.785\n",
      "Epoch 173 Batch   13/19   train_loss = 0.815\n",
      "Epoch 174 Batch    4/19   train_loss = 0.850\n",
      "Epoch 174 Batch   14/19   train_loss = 0.812\n",
      "Epoch 175 Batch    5/19   train_loss = 0.820\n",
      "Epoch 175 Batch   15/19   train_loss = 0.832\n",
      "Epoch 176 Batch    6/19   train_loss = 0.802\n",
      "Epoch 176 Batch   16/19   train_loss = 0.836\n",
      "Epoch 177 Batch    7/19   train_loss = 0.885\n",
      "Epoch 177 Batch   17/19   train_loss = 0.779\n",
      "Epoch 178 Batch    8/19   train_loss = 0.776\n",
      "Epoch 178 Batch   18/19   train_loss = 0.856\n",
      "Epoch 179 Batch    9/19   train_loss = 0.823\n",
      "Epoch 180 Batch    0/19   train_loss = 0.808\n",
      "Epoch 180 Batch   10/19   train_loss = 0.812\n",
      "Epoch 181 Batch    1/19   train_loss = 0.825\n",
      "Epoch 181 Batch   11/19   train_loss = 0.801\n",
      "Epoch 182 Batch    2/19   train_loss = 0.832\n",
      "Epoch 182 Batch   12/19   train_loss = 0.790\n",
      "Epoch 183 Batch    3/19   train_loss = 0.745\n",
      "Epoch 183 Batch   13/19   train_loss = 0.777\n",
      "Epoch 184 Batch    4/19   train_loss = 0.801\n",
      "Epoch 184 Batch   14/19   train_loss = 0.789\n",
      "Epoch 185 Batch    5/19   train_loss = 0.791\n",
      "Epoch 185 Batch   15/19   train_loss = 0.795\n",
      "Epoch 186 Batch    6/19   train_loss = 0.765\n",
      "Epoch 186 Batch   16/19   train_loss = 0.803\n",
      "Epoch 187 Batch    7/19   train_loss = 0.854\n",
      "Epoch 187 Batch   17/19   train_loss = 0.758\n",
      "Epoch 188 Batch    8/19   train_loss = 0.754\n",
      "Epoch 188 Batch   18/19   train_loss = 0.830\n",
      "Epoch 189 Batch    9/19   train_loss = 0.800\n",
      "Epoch 190 Batch    0/19   train_loss = 0.802\n",
      "Epoch 190 Batch   10/19   train_loss = 0.806\n",
      "Epoch 191 Batch    1/19   train_loss = 0.821\n",
      "Epoch 191 Batch   11/19   train_loss = 0.788\n",
      "Epoch 192 Batch    2/19   train_loss = 0.826\n",
      "Epoch 192 Batch   12/19   train_loss = 0.786\n",
      "Epoch 193 Batch    3/19   train_loss = 0.737\n",
      "Epoch 193 Batch   13/19   train_loss = 0.781\n",
      "Epoch 194 Batch    4/19   train_loss = 0.804\n",
      "Epoch 194 Batch   14/19   train_loss = 0.787\n",
      "Epoch 195 Batch    5/19   train_loss = 0.783\n",
      "Epoch 195 Batch   15/19   train_loss = 0.802\n",
      "Epoch 196 Batch    6/19   train_loss = 0.764\n",
      "Epoch 196 Batch   16/19   train_loss = 0.804\n",
      "Epoch 197 Batch    7/19   train_loss = 0.841\n",
      "Epoch 197 Batch   17/19   train_loss = 0.757\n",
      "Epoch 198 Batch    8/19   train_loss = 0.752\n",
      "Epoch 198 Batch   18/19   train_loss = 0.828\n",
      "Epoch 199 Batch    9/19   train_loss = 0.798\n",
      "Model Trained and Saved\n"
     ]
    }
   ],
   "source": [
    "\"\"\"\n",
    "DON'T MODIFY ANYTHING IN THIS CELL\n",
    "\"\"\"\n",
    "batches = get_batches(int_text, batch_size, seq_length)\n",
    "\n",
    "with tf.Session(graph=train_graph) as sess:\n",
    "    sess.run(tf.global_variables_initializer())\n",
    "\n",
    "    for epoch_i in range(num_epochs):\n",
    "        state = sess.run(initial_state, {input_text: batches[0][0]})\n",
    "\n",
    "        for batch_i, (x, y) in enumerate(batches):\n",
    "            feed = {\n",
    "                input_text: x,\n",
    "                targets: y,\n",
    "                initial_state: state,\n",
    "                lr: learning_rate}\n",
    "            train_loss, state, _ = sess.run([cost, final_state, train_op], feed)\n",
    "\n",
    "            # Show every <show_every_n_batches> batches\n",
    "            if (epoch_i * len(batches) + batch_i) % show_every_n_batches == 0:\n",
    "                print('Epoch {:>3} Batch {:>4}/{}   train_loss = {:.3f}'.format(\n",
    "                    epoch_i,\n",
    "                    batch_i,\n",
    "                    len(batches),\n",
    "                    train_loss))\n",
    "\n",
    "    # Save Model\n",
    "    saver = tf.train.Saver()\n",
    "    saver.save(sess, save_dir)\n",
    "    print('Model Trained and Saved')"
   ]
  },
  {
   "cell_type": "markdown",
   "metadata": {
    "deletable": true,
    "editable": true
   },
   "source": [
    "## Save Parameters\n",
    "Save `seq_length` and `save_dir` for generating a new TV script."
   ]
  },
  {
   "cell_type": "code",
   "execution_count": 48,
   "metadata": {
    "collapsed": false,
    "deletable": true,
    "editable": true
   },
   "outputs": [],
   "source": [
    "\"\"\"\n",
    "DON'T MODIFY ANYTHING IN THIS CELL\n",
    "\"\"\"\n",
    "# Save parameters for checkpoint\n",
    "helper.save_params((seq_length, save_dir))"
   ]
  },
  {
   "cell_type": "markdown",
   "metadata": {
    "deletable": true,
    "editable": true
   },
   "source": [
    "# Checkpoint"
   ]
  },
  {
   "cell_type": "code",
   "execution_count": 49,
   "metadata": {
    "collapsed": false,
    "deletable": true,
    "editable": true
   },
   "outputs": [],
   "source": [
    "\"\"\"\n",
    "DON'T MODIFY ANYTHING IN THIS CELL\n",
    "\"\"\"\n",
    "import tensorflow as tf\n",
    "import numpy as np\n",
    "import helper\n",
    "import problem_unittests as tests\n",
    "\n",
    "_, vocab_to_int, int_to_vocab, token_dict = helper.load_preprocess()\n",
    "seq_length, load_dir = helper.load_params()"
   ]
  },
  {
   "cell_type": "markdown",
   "metadata": {
    "deletable": true,
    "editable": true
   },
   "source": [
    "## Implement Generate Functions\n",
    "### Get Tensors\n",
    "Get tensors from `loaded_graph` using the function [`get_tensor_by_name()`](https://www.tensorflow.org/api_docs/python/tf/Graph#get_tensor_by_name).  Get the tensors using the following names:\n",
    "- \"input:0\"\n",
    "- \"initial_state:0\"\n",
    "- \"final_state:0\"\n",
    "- \"probs:0\"\n",
    "\n",
    "Return the tensors in the following tuple `(InputTensor, InitialStateTensor, FinalStateTensor, ProbsTensor)` "
   ]
  },
  {
   "cell_type": "code",
   "execution_count": 50,
   "metadata": {
    "collapsed": false,
    "deletable": true,
    "editable": true
   },
   "outputs": [
    {
     "name": "stdout",
     "output_type": "stream",
     "text": [
      "Tests Passed\n"
     ]
    }
   ],
   "source": [
    "def get_tensors(loaded_graph):\n",
    "    \"\"\"\n",
    "    Get input, initial state, final state, and probabilities tensor from <loaded_graph>\n",
    "    :param loaded_graph: TensorFlow graph loaded from file\n",
    "    :return: Tuple (InputTensor, InitialStateTensor, FinalStateTensor, ProbsTensor)\n",
    "    \"\"\"\n",
    "    return (loaded_graph.get_tensor_by_name(x) for x in [\"input:0\",\"initial_state:0\",\"final_state:0\",\"probs:0\"])\n",
    "\n",
    "\"\"\"\n",
    "DON'T MODIFY ANYTHING IN THIS CELL THAT IS BELOW THIS LINE\n",
    "\"\"\"\n",
    "tests.test_get_tensors(get_tensors)"
   ]
  },
  {
   "cell_type": "markdown",
   "metadata": {
    "deletable": true,
    "editable": true
   },
   "source": [
    "### Choose Word\n",
    "Implement the `pick_word()` function to select the next word using `probabilities`."
   ]
  },
  {
   "cell_type": "code",
   "execution_count": 51,
   "metadata": {
    "collapsed": false,
    "deletable": true,
    "editable": true
   },
   "outputs": [
    {
     "name": "stdout",
     "output_type": "stream",
     "text": [
      "Tests Passed\n"
     ]
    }
   ],
   "source": [
    "def pick_word(probabilities, int_to_vocab):\n",
    "    \"\"\"\n",
    "    Pick the next word in the generated text\n",
    "    :param probabilities: Probabilites of the next word\n",
    "    :param int_to_vocab: Dictionary of word ids as the keys and words as the values\n",
    "    :return: String of the predicted word\n",
    "    \"\"\"\n",
    "    words_list = [int_to_vocab[i] for i in sorted([x for x in int_to_vocab])]\n",
    "    return np.random.choice(words_list, p=probabilities)\n",
    "\n",
    "\"\"\"\n",
    "DON'T MODIFY ANYTHING IN THIS CELL THAT IS BELOW THIS LINE\n",
    "\"\"\"\n",
    "tests.test_pick_word(pick_word)"
   ]
  },
  {
   "cell_type": "markdown",
   "metadata": {
    "deletable": true,
    "editable": true
   },
   "source": [
    "## Generate TV Script\n",
    "This will generate the TV script for you.  Set `gen_length` to the length of TV script you want to generate."
   ]
  },
  {
   "cell_type": "code",
   "execution_count": 52,
   "metadata": {
    "collapsed": false,
    "deletable": true,
    "editable": true
   },
   "outputs": [
    {
     "name": "stdout",
     "output_type": "stream",
     "text": [
      "moe_szyslak: don't you come from?\n",
      "smokin'_joe_frazier: keep not in here, we thought thank you to recreate. you don't want about a beer to throw!\n",
      "homer_simpson: no! you're tired! now's your heart that was my fan.\n",
      "homer_simpson: it's over by appealing to her feelings.\n",
      "lenny_leonard: she's time for me to do her smell, your heart and that does is the class.\n",
      "apu_nahasapeemapetilon:(looking around) lucius! but a thing(to little girl, homer? hottest ladies night in months.\n",
      "krusty_the_clown: c'mon, moe. you can always play video to dinner, a hundred bucks.\n",
      "lenny_leonard: all right.(short moan)\n",
      "moe_szyslak:(chuckles) can i forgot to you, homer. you're not so strong! good for? lisa didn't bring you gonna pay for it.\n",
      "homer_simpson: why are you goin', moe. all had too guy. no kneeling.... ya... eleven.\n",
      "lenny_leonard: how long, uh, you want me to come into that you had a\" walk on\n"
     ]
    }
   ],
   "source": [
    "gen_length = 200\n",
    "# homer_simpson, moe_szyslak, or Barney_Gumble\n",
    "prime_word = 'moe_szyslak'\n",
    "\n",
    "\"\"\"\n",
    "DON'T MODIFY ANYTHING IN THIS CELL THAT IS BELOW THIS LINE\n",
    "\"\"\"\n",
    "loaded_graph = tf.Graph()\n",
    "with tf.Session(graph=loaded_graph) as sess:\n",
    "    # Load saved model\n",
    "    loader = tf.train.import_meta_graph(load_dir + '.meta')\n",
    "    loader.restore(sess, load_dir)\n",
    "\n",
    "    # Get Tensors from loaded model\n",
    "    input_text, initial_state, final_state, probs = get_tensors(loaded_graph)\n",
    "\n",
    "    # Sentences generation setup\n",
    "    gen_sentences = [prime_word + ':']\n",
    "    prev_state = sess.run(initial_state, {input_text: np.array([[1]])})\n",
    "\n",
    "    # Generate sentences\n",
    "    for n in range(gen_length):\n",
    "        # Dynamic Input\n",
    "        dyn_input = [[vocab_to_int[word] for word in gen_sentences[-seq_length:]]]\n",
    "        dyn_seq_length = len(dyn_input[0])\n",
    "\n",
    "        # Get Prediction\n",
    "        probabilities, prev_state = sess.run(\n",
    "            [probs, final_state],\n",
    "            {input_text: dyn_input, initial_state: prev_state})\n",
    "        \n",
    "        pred_word = pick_word(probabilities[dyn_seq_length-1], int_to_vocab)\n",
    "\n",
    "        gen_sentences.append(pred_word)\n",
    "    \n",
    "    # Remove tokens\n",
    "    tv_script = ' '.join(gen_sentences)\n",
    "    for key, token in token_dict.items():\n",
    "        ending = ' ' if key in ['\\n', '(', '\"'] else ''\n",
    "        tv_script = tv_script.replace(' ' + token.lower(), key)\n",
    "    tv_script = tv_script.replace('\\n ', '\\n')\n",
    "    tv_script = tv_script.replace('( ', '(')\n",
    "        \n",
    "    print(tv_script)"
   ]
  },
  {
   "cell_type": "markdown",
   "metadata": {
    "deletable": true,
    "editable": true
   },
   "source": [
    "# The TV Script is Nonsensical\n",
    "It's ok if the TV script doesn't make any sense.  We trained on less than a megabyte of text.  In order to get good results, you'll have to use a smaller vocabulary or get more data.  Luckly there's more data!  As we mentioned in the begging of this project, this is a subset of [another dataset](https://www.kaggle.com/wcukierski/the-simpsons-by-the-data).  We didn't have you train on all the data, because that would take too long.  However, you are free to train your neural network on all the data.  After you complete the project, of course.\n",
    "# Submitting This Project\n",
    "When submitting this project, make sure to run all the cells before saving the notebook. Save the notebook file as \"dlnd_tv_script_generation.ipynb\" and save it as a HTML file under \"File\" -> \"Download as\". Include the \"helper.py\" and \"problem_unittests.py\" files in your submission."
   ]
  }
 ],
 "metadata": {
  "kernelspec": {
   "display_name": "Python 3",
   "language": "python",
   "name": "python3"
  },
  "language_info": {
   "codemirror_mode": {
    "name": "ipython",
    "version": 3
   },
   "file_extension": ".py",
   "mimetype": "text/x-python",
   "name": "python",
   "nbconvert_exporter": "python",
   "pygments_lexer": "ipython3",
   "version": "3.5.2"
  },
  "widgets": {
   "state": {},
   "version": "1.1.2"
  }
 },
 "nbformat": 4,
 "nbformat_minor": 0
}
